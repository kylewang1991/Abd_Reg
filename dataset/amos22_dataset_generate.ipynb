{
 "cells": [
  {
   "cell_type": "code",
   "execution_count": 19,
   "metadata": {},
   "outputs": [],
   "source": [
    "import numpy\n",
    "import os\n",
    "\n",
    "import nibabel as nib # nibabel to handle nifti files\n",
    "import SimpleITK as sitk\n",
    "import json\n",
    "\n",
    "import torch"
   ]
  },
  {
   "cell_type": "code",
   "execution_count": 20,
   "metadata": {},
   "outputs": [],
   "source": [
    "def reduce_label(input_path, output_path):\n",
    "    volume = sitk.ReadImage(input_path)\n",
    "\n",
    "    image_data = sitk.GetArrayFromImage(volume)\n",
    "    #label_map={0:0 , 1:2 , 2:3 , 3:4 , 4:0 , 5:0 , 6:1 , 7:0 , 8:0 , 9:0 ,10:0 , 11:0 , 12:0 , 13:0 , 14:0, 15:0}\n",
    "    array = torch.tensor(image_data, dtype=torch.int64)  # Convert the array to a PyTorch tensor\n",
    "    onehot_encoded = torch.nn.functional.one_hot(array, num_classes=16)\n",
    "    \n",
    "    label_reduced = torch.zeros_like(array)\n",
    "    label_reduced[onehot_encoded[:, :, :, 1] == 1] = 2\n",
    "    label_reduced[onehot_encoded[:, :, :, 2] == 1] = 3\n",
    "    label_reduced[onehot_encoded[:, :, :, 3] == 1] = 4\n",
    "    label_reduced[onehot_encoded[:, :, :, 6] == 1] = 1\n",
    "    label_reduced = label_reduced.numpy()\n",
    "\n",
    "    #label_unique_values = numpy.unique(label_reduced)\n",
    "    #print(label_unique_values)\n",
    "\n",
    "\n",
    "    img_preprocessed = sitk.GetImageFromArray(label_reduced)\n",
    "    img_preprocessed.CopyInformation(volume)\n",
    "    \n",
    "    sitk.WriteImage(img_preprocessed, output_path)\n"
   ]
  },
  {
   "cell_type": "code",
   "execution_count": 21,
   "metadata": {},
   "outputs": [],
   "source": [
    "def all_reduce_label(input_json, output_json):\n",
    "    with open(input_json, 'r') as f:\n",
    "        info = json.load(f)\n",
    "\n",
    "    root_dir = os.path.join(os.getcwd(), \"..\", info[\"root_dir\"])\n",
    "\n",
    "    for key in [\"training\", \"valid\", \"test\"]:\n",
    "        for fix_move in [\"0\", \"1\"]:\n",
    "            for index,image_label in enumerate(info[key][fix_move]):\n",
    "                label = os.path.join(root_dir, image_label[\"label\"])\n",
    "                label_name = os.path.basename(label)\n",
    "                label_name = label_name.split('.')[0] + \"_reduce.nii.gz\"\n",
    "                label_new = os.path.join(os.path.dirname(label), label_name)\n",
    "\n",
    "                reduce_label(label, label_new)\n",
    "                info[key][fix_move][index][\"label\"] = os.path.relpath(label_new, root_dir)\n",
    "\n",
    "    with open(output_json, \"w\") as outfile:\n",
    "        json.dump(info, outfile, indent=4)"
   ]
  },
  {
   "cell_type": "code",
   "execution_count": 22,
   "metadata": {},
   "outputs": [],
   "source": [
    "all_reduce_label(\"../dataset/amos/amos22_dataset.json\", \"../dataset/amos/amos22_dataset_reduced_label.json\")"
   ]
  },
  {
   "cell_type": "code",
   "execution_count": 23,
   "metadata": {},
   "outputs": [],
   "source": [
    "def change_orientation_volume(input_path, output_path):\n",
    "    volume = sitk.ReadImage(input_path) # read and cast to float32\n",
    "    reoriented = sitk.DICOMOrient(volume, 'LAS')\n",
    "    sitk.WriteImage(reoriented, output_path)"
   ]
  },
  {
   "cell_type": "code",
   "execution_count": 24,
   "metadata": {},
   "outputs": [],
   "source": [
    "def all_reorient(input_json, output_json):\n",
    "    with open(input_json, 'r') as f:\n",
    "        info = json.load(f)\n",
    "\n",
    "    root_dir = os.path.join(os.getcwd(), \"..\", info[\"root_dir\"])\n",
    "\n",
    "    for key in [\"training\", \"valid\", \"test\"]:\n",
    "        for fix_move in [\"0\", \"1\"]:\n",
    "            for index,image_label in enumerate(info[key][fix_move]):\n",
    "\n",
    "                image = os.path.join(root_dir, image_label[\"image\"])\n",
    "                image_name = os.path.basename(image)\n",
    "                image_name = image_name.split('.')[0] + \"_ras.nii.gz\"\n",
    "                image_new = os.path.join(os.path.dirname(image), image_name)\n",
    "\n",
    "                label = os.path.join(root_dir, image_label[\"label\"])\n",
    "                label_name = os.path.basename(label)\n",
    "                label_name = label_name.split('.')[0] + \"_ras.nii.gz\"\n",
    "                label_new = os.path.join(os.path.dirname(label), label_name)\n",
    "\n",
    "                change_orientation_volume(image, image_new)\n",
    "                change_orientation_volume(label, label_new)\n",
    "                info[key][fix_move][index][\"label\"] = os.path.relpath(label_new, root_dir)\n",
    "                info[key][fix_move][index][\"image\"] = os.path.relpath(image_new, root_dir)\n",
    "\n",
    "    with open(output_json, \"w\") as outfile:\n",
    "        json.dump(info, outfile, indent=4)"
   ]
  },
  {
   "cell_type": "code",
   "execution_count": 25,
   "metadata": {},
   "outputs": [],
   "source": [
    "all_reorient(\"../dataset/amos/amos22_dataset_reduced_label.json\", \"../dataset/amos/amos22_dataset_reorient.json\")"
   ]
  }
 ],
 "metadata": {
  "kernelspec": {
   "display_name": "Python 3",
   "language": "python",
   "name": "python3"
  },
  "language_info": {
   "codemirror_mode": {
    "name": "ipython",
    "version": 3
   },
   "file_extension": ".py",
   "mimetype": "text/x-python",
   "name": "python",
   "nbconvert_exporter": "python",
   "pygments_lexer": "ipython3",
   "version": "3.12.3"
  }
 },
 "nbformat": 4,
 "nbformat_minor": 2
}
